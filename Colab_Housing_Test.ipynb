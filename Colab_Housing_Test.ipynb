{
  "nbformat": 4,
  "nbformat_minor": 0,
  "metadata": {
    "colab": {
      "provenance": [],
      "authorship_tag": "ABX9TyMTRtujOJVfKAYcM3heH6Jt",
      "include_colab_link": true
    },
    "kernelspec": {
      "name": "python3",
      "display_name": "Python 3"
    },
    "language_info": {
      "name": "python"
    }
  },
  "cells": [
    {
      "cell_type": "markdown",
      "metadata": {
        "id": "view-in-github",
        "colab_type": "text"
      },
      "source": [
        "<a href=\"https://colab.research.google.com/github/ErikFolkesson/nn_from_scratch_python/blob/main/Colab_Housing_Test.ipynb\" target=\"_parent\"><img src=\"https://colab.research.google.com/assets/colab-badge.svg\" alt=\"Open In Colab\"/></a>"
      ]
    },
    {
      "cell_type": "code",
      "execution_count": 1,
      "metadata": {
        "colab": {
          "base_uri": "https://localhost:8080/"
        },
        "id": "YCmQGecZJmfK",
        "outputId": "084b04a5-ed65-4d4c-a666-4f5e204e28e5"
      },
      "outputs": [
        {
          "output_type": "stream",
          "name": "stdout",
          "text": [
            "fatal: destination path 'nn_from_scratch_python' already exists and is not an empty directory.\n"
          ]
        }
      ],
      "source": [
        "!git clone https://github.com/ErikFolkesson/nn_from_scratch_python.git"
      ]
    },
    {
      "cell_type": "code",
      "source": [
        "%cd nn_from_scratch_python"
      ],
      "metadata": {
        "colab": {
          "base_uri": "https://localhost:8080/"
        },
        "id": "PXUA8j0XMpG4",
        "outputId": "d4bc10cc-5978-42a2-848f-0fb046a57ce5"
      },
      "execution_count": 4,
      "outputs": [
        {
          "output_type": "stream",
          "name": "stdout",
          "text": [
            "/content/nn_from_scratch_python\n"
          ]
        }
      ]
    },
    {
      "cell_type": "code",
      "source": [
        "from neural_network.network import Network\n",
        "from neural_network.layers import Dense\n",
        "from neural_network.cost import Cost\n",
        "from neural_network.optimizer import Optimizer"
      ],
      "metadata": {
        "id": "fKY1_rnlMj5j"
      },
      "execution_count": 6,
      "outputs": []
    },
    {
      "cell_type": "code",
      "source": [
        "import pandas as pd\n",
        "from sklearn.preprocessing import StandardScaler\n",
        "\n",
        "file_path = 'data/housing.csv'\n",
        "data = pd.read_csv(file_path)\n",
        "\n",
        "data = data.dropna()\n",
        "data = data.drop(columns=['longitude', 'latitude', 'ocean_proximity'])\n",
        "\n",
        "X = data.iloc[:, :-1].values\n",
        "Y = data.iloc[:, -1].values\n",
        "\n",
        "scaler_X = StandardScaler()\n",
        "X = scaler_X.fit_transform(X)\n",
        "\n",
        "scaler_Y = StandardScaler()\n",
        "Y = scaler_Y.fit_transform(Y.reshape(-1, 1)).flatten()"
      ],
      "metadata": {
        "id": "MMacrUACMkVF"
      },
      "execution_count": 7,
      "outputs": []
    },
    {
      "cell_type": "code",
      "source": [
        "network = Network(\n",
        "    layers=[\n",
        "        Dense(X.shape[1], 10, \"relu\"),\n",
        "        Dense(10, 10, \"relu\"),\n",
        "        Dense(10, 1, \"none\")\n",
        "    ],\n",
        "    cost=Cost(\"MSE\")\n",
        ")"
      ],
      "metadata": {
        "id": "lv6k94aFMyhf"
      },
      "execution_count": 8,
      "outputs": []
    },
    {
      "cell_type": "code",
      "source": [
        "training_progress = network.train(X, Y, 150000, learning_rate=0.005, validation_split=0.2, verbose=True, verbose_percentage=10)"
      ],
      "metadata": {
        "colab": {
          "base_uri": "https://localhost:8080/"
        },
        "id": "5EaD7KT6M0Hp",
        "outputId": "48d09faf-952a-457d-9489-50b48e20c78a"
      },
      "execution_count": null,
      "outputs": [
        {
          "output_type": "stream",
          "name": "stdout",
          "text": [
            "\r[--------------------] Progress: 0.0% - Epoch 0/150000 - Loss: 5.6438 - Validation Loss: 2.4175\n",
            "\n",
            "\n",
            "[==------------------] Progress: 10.0% - Epoch 15000/150000 - Loss: 0.1844 - Validation Loss: 0.1772\n",
            "\n",
            "\n"
          ]
        }
      ]
    },
    {
      "cell_type": "code",
      "source": [
        "import matplotlib.pyplot as plt\n",
        "\n",
        "ignore_first_n = 1000\n",
        "\n",
        "costs = training_progress['cost'][ignore_first_n:]\n",
        "val_costs = training_progress['val_cost'][ignore_first_n:]\n",
        "\n",
        "plt.figure(figsize=(10, 6))\n",
        "plt.plot(range(ignore_first_n, len(costs) + ignore_first_n), costs, 'r-', label='Training cost')\n",
        "plt.plot(range(ignore_first_n, len(val_costs) + ignore_first_n), val_costs, 'b-', label='Validation cost')\n",
        "plt.xlabel('Epoch')\n",
        "plt.ylabel('Cost')\n",
        "plt.title('Training Progress')\n",
        "plt.legend()\n",
        "plt.show()"
      ],
      "metadata": {
        "id": "Ae1ObyjVM1cN"
      },
      "execution_count": null,
      "outputs": []
    },
    {
      "cell_type": "code",
      "source": [],
      "metadata": {
        "id": "8NESRh8FM5EP"
      },
      "execution_count": null,
      "outputs": []
    }
  ]
}