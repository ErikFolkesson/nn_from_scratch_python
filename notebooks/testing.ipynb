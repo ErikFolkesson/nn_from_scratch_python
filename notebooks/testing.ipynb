{
 "cells": [
  {
   "cell_type": "code",
   "execution_count": 48,
   "metadata": {},
   "outputs": [],
   "source": [
    "import sys\n",
    "sys.path.append('..')  # This moves one directory up\n",
    "\n",
    "from neural_network.layers import Dense\n",
    "from neural_network.loss import Loss"
   ]
  },
  {
   "cell_type": "code",
   "execution_count": 62,
   "metadata": {},
   "outputs": [
    {
     "name": "stdout",
     "output_type": "stream",
     "text": [
      "First example in X = [0.93691941 0.79319064 0.1955204  0.19098196]\n",
      "First example in Y = 2.1166124045171086\n"
     ]
    }
   ],
   "source": [
    "import numpy as np\n",
    "\n",
    "input_size = 4\n",
    "output_size = 1\n",
    "\n",
    "num_features = 4\n",
    "num_examples = 10\n",
    "\n",
    "X = np.random.random((num_features, num_examples))\n",
    "Y = X.sum(axis=0) \n",
    "\n",
    "print(f\"First example in X = {X[:,1]}\")\n",
    "print(f\"First example in Y = {Y[1]}\")"
   ]
  },
  {
   "cell_type": "code",
   "execution_count": 63,
   "metadata": {},
   "outputs": [],
   "source": [
    "layer1 = Dense(input_size, output_size, \"relu\")\n",
    "loss1 = Loss(\"MSE\")"
   ]
  },
  {
   "cell_type": "code",
   "execution_count": 64,
   "metadata": {},
   "outputs": [
    {
     "name": "stdout",
     "output_type": "stream",
     "text": [
      "Predictions are: [[0.17537354 0.96973662 0.56210658 1.19978647 0.52168631 1.20762744\n",
      "  1.33965177 0.47220361 1.28125307 1.18612848]]\n",
      "Ground Truth is: [1.63235642 2.1166124  1.83715147 2.30621428 2.51032615 2.00585499\n",
      " 2.217438   1.32543286 2.21252545 1.09482809]\n",
      "The MSE cost is: 6.627006800624527\n"
     ]
    }
   ],
   "source": [
    "Y_hat = layer1.call(X)\n",
    "cost = loss1.calc_cost(Y_hat, Y)\n",
    "\n",
    "print(f\"Predictions are: {Y_hat}\")\n",
    "print(f\"Ground Truth is: {Y}\")\n",
    "print(f\"The MSE cost is: {cost}\")"
   ]
  },
  {
   "cell_type": "code",
   "execution_count": 57,
   "metadata": {},
   "outputs": [
    {
     "data": {
      "text/plain": [
       "(10,)"
      ]
     },
     "execution_count": 57,
     "metadata": {},
     "output_type": "execute_result"
    }
   ],
   "source": [
    "Y.shape"
   ]
  },
  {
   "cell_type": "code",
   "execution_count": 54,
   "metadata": {},
   "outputs": [],
   "source": []
  },
  {
   "cell_type": "code",
   "execution_count": 55,
   "metadata": {},
   "outputs": [],
   "source": []
  },
  {
   "cell_type": "code",
   "execution_count": null,
   "metadata": {},
   "outputs": [],
   "source": []
  }
 ],
 "metadata": {
  "kernelspec": {
   "display_name": "nn_python_env",
   "language": "python",
   "name": "python3"
  },
  "language_info": {
   "codemirror_mode": {
    "name": "ipython",
    "version": 3
   },
   "file_extension": ".py",
   "mimetype": "text/x-python",
   "name": "python",
   "nbconvert_exporter": "python",
   "pygments_lexer": "ipython3",
   "version": "3.12.2"
  }
 },
 "nbformat": 4,
 "nbformat_minor": 2
}
